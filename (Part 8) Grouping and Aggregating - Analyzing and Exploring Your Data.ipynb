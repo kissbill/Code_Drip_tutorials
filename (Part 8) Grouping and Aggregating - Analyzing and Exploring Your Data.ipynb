{
 "cells": [
  {
   "cell_type": "code",
   "execution_count": 1,
   "metadata": {},
   "outputs": [],
   "source": [
    "import pandas as pd\n",
    "\n",
    "survey_public_link = 'C:/Users/Erik_Dubrovszkij/Documents/Projects/Homee/developer_survey_2019/survey_results_public.csv'\n",
    "survey_schema_link = 'C:/Users/Erik_Dubrovszkij/Documents/Projects/Homee/developer_survey_2019/survey_results_schema.csv'\n",
    "\n",
    "df = pd.read_csv(survey_public_link, index_col='Respondent')\n",
    "schema_df = pd.read_csv(survey_schema_link,index_col='Column')"
   ]
  },
  {
   "cell_type": "code",
   "execution_count": null,
   "metadata": {},
   "outputs": [],
   "source": [
    "df['ConvertedComp'].head(15)"
   ]
  },
  {
   "cell_type": "code",
   "execution_count": null,
   "metadata": {},
   "outputs": [],
   "source": [
    "df['ConvertedComp'].median()"
   ]
  },
  {
   "cell_type": "code",
   "execution_count": null,
   "metadata": {},
   "outputs": [],
   "source": [
    "# mindenhol ahol ertelmezve lehet, mediant nez, oszlop\n",
    "df.median()"
   ]
  },
  {
   "cell_type": "code",
   "execution_count": null,
   "metadata": {},
   "outputs": [],
   "source": [
    "df.describe()"
   ]
  },
  {
   "cell_type": "code",
   "execution_count": 2,
   "metadata": {},
   "outputs": [],
   "source": [
    "import dtale"
   ]
  },
  {
   "cell_type": "code",
   "execution_count": 3,
   "metadata": {},
   "outputs": [
    {
     "data": {
      "text/html": [
       "\n",
       "        <iframe\n",
       "            width=\"100%\"\n",
       "            height=\"350\"\n",
       "            src=\"http://EPHUBUDW0340:40000/dtale/iframe/1\"\n",
       "            frameborder=\"0\"\n",
       "            allowfullscreen\n",
       "        ></iframe>\n",
       "        "
      ],
      "text/plain": [
       "<IPython.lib.display.IFrame at 0x2f55ab1b6d8>"
      ]
     },
     "metadata": {},
     "output_type": "display_data"
    },
    {
     "data": {
      "text/plain": []
     },
     "execution_count": 3,
     "metadata": {},
     "output_type": "execute_result"
    },
    {
     "name": "stderr",
     "output_type": "stream",
     "text": [
      "c:\\program files\\python37\\lib\\site-packages\\pandas\\core\\frame.py:3202: FutureWarning:\n",
      "\n",
      "\n",
      "Passing list-likes to .loc or [] with any missing label will raise\n",
      "KeyError in the future, you can use .reindex() as an alternative.\n",
      "\n",
      "See the documentation here:\n",
      "https://pandas.pydata.org/pandas-docs/stable/user_guide/indexing.html#deprecate-loc-reindex-listlike\n",
      "\n"
     ]
    },
    {
     "name": "stdout",
     "output_type": "stream",
     "text": [
      "Exception occurred while processing request: name 'Col' is not defined\n",
      "Traceback (most recent call last):\n",
      "  File \"c:\\program files\\python37\\lib\\site-packages\\pandas\\core\\computation\\scope.py\", line 188, in resolve\n",
      "    return self.resolvers[key]\n",
      "  File \"c:\\program files\\python37\\lib\\collections\\__init__.py\", line 914, in __getitem__\n",
      "    return self.__missing__(key)            # support subclasses that define __missing__\n",
      "  File \"c:\\program files\\python37\\lib\\collections\\__init__.py\", line 906, in __missing__\n",
      "    raise KeyError(key)\n",
      "KeyError: 'Col'\n",
      "\n",
      "During handling of the above exception, another exception occurred:\n",
      "\n",
      "Traceback (most recent call last):\n",
      "  File \"c:\\program files\\python37\\lib\\site-packages\\pandas\\core\\computation\\scope.py\", line 199, in resolve\n",
      "    return self.temps[key]\n",
      "KeyError: 'Col'\n",
      "\n",
      "During handling of the above exception, another exception occurred:\n",
      "\n",
      "Traceback (most recent call last):\n",
      "  File \"c:\\program files\\python37\\lib\\site-packages\\dtale\\views.py\", line 807, in test_filter\n",
      "    run_query(DATA[data_id], get_str_arg(request, 'query'))\n",
      "  File \"c:\\program files\\python37\\lib\\site-packages\\dtale\\utils.py\", line 795, in run_query\n",
      "    df = df.query(final_query)  # Carry out query\n",
      "  File \"c:\\program files\\python37\\lib\\site-packages\\pandas\\core\\frame.py\", line 3199, in query\n",
      "    res = self.eval(expr, **kwargs)\n",
      "  File \"c:\\program files\\python37\\lib\\site-packages\\pandas\\core\\frame.py\", line 3315, in eval\n",
      "    return _eval(expr, inplace=inplace, **kwargs)\n",
      "  File \"c:\\program files\\python37\\lib\\site-packages\\pandas\\core\\computation\\eval.py\", line 322, in eval\n",
      "    parsed_expr = Expr(expr, engine=engine, parser=parser, env=env, truediv=truediv)\n",
      "  File \"c:\\program files\\python37\\lib\\site-packages\\pandas\\core\\computation\\expr.py\", line 830, in __init__\n",
      "    self.terms = self.parse()\n",
      "  File \"c:\\program files\\python37\\lib\\site-packages\\pandas\\core\\computation\\expr.py\", line 847, in parse\n",
      "    return self._visitor.visit(self.expr)\n",
      "  File \"c:\\program files\\python37\\lib\\site-packages\\pandas\\core\\computation\\expr.py\", line 441, in visit\n",
      "    return visitor(node, **kwargs)\n",
      "  File \"c:\\program files\\python37\\lib\\site-packages\\pandas\\core\\computation\\expr.py\", line 447, in visit_Module\n",
      "    return self.visit(expr, **kwargs)\n",
      "  File \"c:\\program files\\python37\\lib\\site-packages\\pandas\\core\\computation\\expr.py\", line 441, in visit\n",
      "    return visitor(node, **kwargs)\n",
      "  File \"c:\\program files\\python37\\lib\\site-packages\\pandas\\core\\computation\\expr.py\", line 450, in visit_Expr\n",
      "    return self.visit(node.value, **kwargs)\n",
      "  File \"c:\\program files\\python37\\lib\\site-packages\\pandas\\core\\computation\\expr.py\", line 441, in visit\n",
      "    return visitor(node, **kwargs)\n",
      "  File \"c:\\program files\\python37\\lib\\site-packages\\pandas\\core\\computation\\expr.py\", line 747, in visit_Compare\n",
      "    return self.visit(binop)\n",
      "  File \"c:\\program files\\python37\\lib\\site-packages\\pandas\\core\\computation\\expr.py\", line 441, in visit\n",
      "    return visitor(node, **kwargs)\n",
      "  File \"c:\\program files\\python37\\lib\\site-packages\\pandas\\core\\computation\\expr.py\", line 563, in visit_BinOp\n",
      "    op, op_class, left, right = self._maybe_transform_eq_ne(node)\n",
      "  File \"c:\\program files\\python37\\lib\\site-packages\\pandas\\core\\computation\\expr.py\", line 482, in _maybe_transform_eq_ne\n",
      "    left = self.visit(node.left, side=\"left\")\n",
      "  File \"c:\\program files\\python37\\lib\\site-packages\\pandas\\core\\computation\\expr.py\", line 441, in visit\n",
      "    return visitor(node, **kwargs)\n",
      "  File \"c:\\program files\\python37\\lib\\site-packages\\pandas\\core\\computation\\expr.py\", line 577, in visit_Name\n",
      "    return self.term_type(node.id, self.env, **kwargs)\n",
      "  File \"c:\\program files\\python37\\lib\\site-packages\\pandas\\core\\computation\\ops.py\", line 78, in __init__\n",
      "    self._value = self._resolve_name()\n",
      "  File \"c:\\program files\\python37\\lib\\site-packages\\pandas\\core\\computation\\ops.py\", line 95, in _resolve_name\n",
      "    res = self.env.resolve(self.local_name, is_local=self.is_local)\n",
      "  File \"c:\\program files\\python37\\lib\\site-packages\\pandas\\core\\computation\\scope.py\", line 201, in resolve\n",
      "    raise compu.ops.UndefinedVariableError(key, is_local)\n",
      "pandas.core.computation.ops.UndefinedVariableError: name 'Col' is not defined\n"
     ]
    },
    {
     "name": "stderr",
     "output_type": "stream",
     "text": [
      "2020-02-21 14:19:20,841 - ERROR    - Exception occurred while processing request: name 'Col' is not defined\n",
      "Traceback (most recent call last):\n",
      "  File \"c:\\program files\\python37\\lib\\site-packages\\pandas\\core\\computation\\scope.py\", line 188, in resolve\n",
      "    return self.resolvers[key]\n",
      "  File \"c:\\program files\\python37\\lib\\collections\\__init__.py\", line 914, in __getitem__\n",
      "    return self.__missing__(key)            # support subclasses that define __missing__\n",
      "  File \"c:\\program files\\python37\\lib\\collections\\__init__.py\", line 906, in __missing__\n",
      "    raise KeyError(key)\n",
      "KeyError: 'Col'\n",
      "\n",
      "During handling of the above exception, another exception occurred:\n",
      "\n",
      "Traceback (most recent call last):\n",
      "  File \"c:\\program files\\python37\\lib\\site-packages\\pandas\\core\\computation\\scope.py\", line 199, in resolve\n",
      "    return self.temps[key]\n",
      "KeyError: 'Col'\n",
      "\n",
      "During handling of the above exception, another exception occurred:\n",
      "\n",
      "Traceback (most recent call last):\n",
      "  File \"c:\\program files\\python37\\lib\\site-packages\\dtale\\views.py\", line 807, in test_filter\n",
      "    run_query(DATA[data_id], get_str_arg(request, 'query'))\n",
      "  File \"c:\\program files\\python37\\lib\\site-packages\\dtale\\utils.py\", line 795, in run_query\n",
      "    df = df.query(final_query)  # Carry out query\n",
      "  File \"c:\\program files\\python37\\lib\\site-packages\\pandas\\core\\frame.py\", line 3199, in query\n",
      "    res = self.eval(expr, **kwargs)\n",
      "  File \"c:\\program files\\python37\\lib\\site-packages\\pandas\\core\\frame.py\", line 3315, in eval\n",
      "    return _eval(expr, inplace=inplace, **kwargs)\n",
      "  File \"c:\\program files\\python37\\lib\\site-packages\\pandas\\core\\computation\\eval.py\", line 322, in eval\n",
      "    parsed_expr = Expr(expr, engine=engine, parser=parser, env=env, truediv=truediv)\n",
      "  File \"c:\\program files\\python37\\lib\\site-packages\\pandas\\core\\computation\\expr.py\", line 830, in __init__\n",
      "    self.terms = self.parse()\n",
      "  File \"c:\\program files\\python37\\lib\\site-packages\\pandas\\core\\computation\\expr.py\", line 847, in parse\n",
      "    return self._visitor.visit(self.expr)\n",
      "  File \"c:\\program files\\python37\\lib\\site-packages\\pandas\\core\\computation\\expr.py\", line 441, in visit\n",
      "    return visitor(node, **kwargs)\n",
      "  File \"c:\\program files\\python37\\lib\\site-packages\\pandas\\core\\computation\\expr.py\", line 447, in visit_Module\n",
      "    return self.visit(expr, **kwargs)\n",
      "  File \"c:\\program files\\python37\\lib\\site-packages\\pandas\\core\\computation\\expr.py\", line 441, in visit\n",
      "    return visitor(node, **kwargs)\n",
      "  File \"c:\\program files\\python37\\lib\\site-packages\\pandas\\core\\computation\\expr.py\", line 450, in visit_Expr\n",
      "    return self.visit(node.value, **kwargs)\n",
      "  File \"c:\\program files\\python37\\lib\\site-packages\\pandas\\core\\computation\\expr.py\", line 441, in visit\n",
      "    return visitor(node, **kwargs)\n",
      "  File \"c:\\program files\\python37\\lib\\site-packages\\pandas\\core\\computation\\expr.py\", line 747, in visit_Compare\n",
      "    return self.visit(binop)\n",
      "  File \"c:\\program files\\python37\\lib\\site-packages\\pandas\\core\\computation\\expr.py\", line 441, in visit\n",
      "    return visitor(node, **kwargs)\n",
      "  File \"c:\\program files\\python37\\lib\\site-packages\\pandas\\core\\computation\\expr.py\", line 563, in visit_BinOp\n",
      "    op, op_class, left, right = self._maybe_transform_eq_ne(node)\n",
      "  File \"c:\\program files\\python37\\lib\\site-packages\\pandas\\core\\computation\\expr.py\", line 482, in _maybe_transform_eq_ne\n",
      "    left = self.visit(node.left, side=\"left\")\n",
      "  File \"c:\\program files\\python37\\lib\\site-packages\\pandas\\core\\computation\\expr.py\", line 441, in visit\n",
      "    return visitor(node, **kwargs)\n",
      "  File \"c:\\program files\\python37\\lib\\site-packages\\pandas\\core\\computation\\expr.py\", line 577, in visit_Name\n",
      "    return self.term_type(node.id, self.env, **kwargs)\n",
      "  File \"c:\\program files\\python37\\lib\\site-packages\\pandas\\core\\computation\\ops.py\", line 78, in __init__\n",
      "    self._value = self._resolve_name()\n",
      "  File \"c:\\program files\\python37\\lib\\site-packages\\pandas\\core\\computation\\ops.py\", line 95, in _resolve_name\n",
      "    res = self.env.resolve(self.local_name, is_local=self.is_local)\n",
      "  File \"c:\\program files\\python37\\lib\\site-packages\\pandas\\core\\computation\\scope.py\", line 201, in resolve\n",
      "    raise compu.ops.UndefinedVariableError(key, is_local)\n",
      "pandas.core.computation.ops.UndefinedVariableError: name 'Col' is not defined\n"
     ]
    }
   ],
   "source": [
    "\n",
    "df_hungary = df.loc[df['Country'] == 'Hungary']\n",
    "d = dtale.show(df_hungary)\n",
    "d"
   ]
  },
  {
   "cell_type": "code",
   "execution_count": null,
   "metadata": {},
   "outputs": [],
   "source": []
  }
 ],
 "metadata": {
  "kernelspec": {
   "display_name": "Python 3",
   "language": "python",
   "name": "python3"
  },
  "language_info": {
   "codemirror_mode": {
    "name": "ipython",
    "version": 3
   },
   "file_extension": ".py",
   "mimetype": "text/x-python",
   "name": "python",
   "nbconvert_exporter": "python",
   "pygments_lexer": "ipython3",
   "version": "3.7.3"
  }
 },
 "nbformat": 4,
 "nbformat_minor": 4
}
